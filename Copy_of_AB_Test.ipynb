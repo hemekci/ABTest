{
  "nbformat": 4,
  "nbformat_minor": 0,
  "metadata": {
    "colab": {
      "name": "Copy of AB Test.ipynb",
      "provenance": [],
      "collapsed_sections": [],
      "mount_file_id": "1ctibIQ49igQyffsRPb8CndqJqocMu2A3",
      "authorship_tag": "ABX9TyO0UB5b64XnxcIIw0NRfSz5",
      "include_colab_link": true
    },
    "kernelspec": {
      "name": "python3",
      "display_name": "Python 3"
    },
    "language_info": {
      "name": "python"
    }
  },
  "cells": [
    {
      "cell_type": "markdown",
      "metadata": {
        "id": "view-in-github",
        "colab_type": "text"
      },
      "source": [
        "<a href=\"https://colab.research.google.com/github/hemekci/ABTest/blob/main/Copy_of_AB_Test.ipynb\" target=\"_parent\"><img src=\"https://colab.research.google.com/assets/colab-badge.svg\" alt=\"Open In Colab\"/></a>"
      ]
    },
    {
      "cell_type": "markdown",
      "source": [
        "# A/B Test \n",
        "# Comparing Average Bids vs. Maximum Bids in Facebook\n",
        "\n",
        "`***When an advertiser is creating a campaign using the App Install or Conversion objective, they have the option to set a Maximum bid or an Average bid. Maximum bidding is just as it sounds – Facebook will optimize your campaign to deliver as many results as possible, with costs that are equal to or less than your desired maximum bid. Average bidding, on the other hand, will optimize your campaign to deliver results with costs that average to the amount you place in the UI***`\n",
        "\n",
        "Variables\n",
        "* Impression – Number of appearing\n",
        "* Click – Number of Click\n",
        "* Purchase – Total Purchase\n",
        "* Earning – Total Earning\n",
        "\n",
        "Business Target for this case\n",
        "* Purchase\n",
        "-----------------------------------\n",
        "\n",
        "Why A/B test? we need to make sure those groups are statistically whether different/or not. For example means are different why we are testing. Beacuse we are working with samples.\n",
        "\n",
        "-------------------------------------\n",
        "* t-test number of observation is low\n",
        "* z-test number of observation is high\n",
        "-------------------------------------"
      ],
      "metadata": {
        "id": "onIQbIZ79J5z"
      }
    },
    {
      "cell_type": "code",
      "source": [
        "import pandas as pd\n",
        "import numpy as np\n",
        "import matplotlib.pyplot as plt\n",
        "import statsmodels.stats.api as sms\n",
        "from statsmodels.stats.proportion import proportions_ztest\n",
        "pd.set_option('display.float_format', lambda x: '%.2f' % x)\n",
        "from scipy.stats import ttest_1samp, shapiro, levene, ttest_ind, mannwhitneyu, pearsonr, spearmanr, kendalltau, f_oneway, kruskal\n",
        "pd.set_option('display.width', 1000)\n",
        "pd.set_option('display.max_columns', 10)\n",
        "\n"
      ],
      "metadata": {
        "id": "QMaEJ6uO_GJZ"
      },
      "execution_count": null,
      "outputs": []
    },
    {
      "cell_type": "markdown",
      "source": [
        "## Descriptive Statistics"
      ],
      "metadata": {
        "id": "hX_b9nEkC8QT"
      }
    },
    {
      "cell_type": "code",
      "source": [
        "df_control = pd.read_excel(\"/content/drive/MyDrive/ColabData/scoring_ratings/ab_testing.xlsx\", sheet_name=\"Control Group\")\n",
        "print(df_control.head())\n",
        "df_test = pd.read_excel(\"/content/drive/MyDrive/ColabData/scoring_ratings/ab_testing.xlsx\", sheet_name=\"Test Group\")\n",
        "print(df_test.head())\n"
      ],
      "metadata": {
        "colab": {
          "base_uri": "https://localhost:8080/"
        },
        "id": "g-DVVeT6_i_A",
        "outputId": "15abcbb7-6bf8-44e4-9739-ee12f4a8f4bc"
      },
      "execution_count": null,
      "outputs": [
        {
          "output_type": "stream",
          "name": "stdout",
          "text": [
            "   Impression   Click  Purchase  Earning\n",
            "0    82529.46 6090.08    665.21  2311.28\n",
            "1    98050.45 3382.86    315.08  1742.81\n",
            "2    82696.02 4167.97    458.08  1797.83\n",
            "3   109914.40 4910.88    487.09  1696.23\n",
            "4   108457.76 5987.66    441.03  1543.72\n",
            "   Impression   Click  Purchase  Earning\n",
            "0   120103.50 3216.55    702.16  1939.61\n",
            "1   134775.94 3635.08    834.05  2929.41\n",
            "2   107806.62 3057.14    422.93  2526.24\n",
            "3   116445.28 4650.47    429.03  2281.43\n",
            "4   145082.52 5201.39    749.86  2781.70\n"
          ]
        }
      ]
    },
    {
      "cell_type": "code",
      "source": [
        "df_control.describe().T"
      ],
      "metadata": {
        "colab": {
          "base_uri": "https://localhost:8080/",
          "height": 174
        },
        "id": "YFQPHdBSBVB9",
        "outputId": "f11fc176-4804-4436-9fe3-34e94eac1df0"
      },
      "execution_count": null,
      "outputs": [
        {
          "output_type": "execute_result",
          "data": {
            "text/html": [
              "\n",
              "  <div id=\"df-b7831e61-0f15-4ec0-b70f-4d323e3dc7b7\">\n",
              "    <div class=\"colab-df-container\">\n",
              "      <div>\n",
              "<style scoped>\n",
              "    .dataframe tbody tr th:only-of-type {\n",
              "        vertical-align: middle;\n",
              "    }\n",
              "\n",
              "    .dataframe tbody tr th {\n",
              "        vertical-align: top;\n",
              "    }\n",
              "\n",
              "    .dataframe thead th {\n",
              "        text-align: right;\n",
              "    }\n",
              "</style>\n",
              "<table border=\"1\" class=\"dataframe\">\n",
              "  <thead>\n",
              "    <tr style=\"text-align: right;\">\n",
              "      <th></th>\n",
              "      <th>count</th>\n",
              "      <th>mean</th>\n",
              "      <th>std</th>\n",
              "      <th>min</th>\n",
              "      <th>25%</th>\n",
              "      <th>50%</th>\n",
              "      <th>75%</th>\n",
              "      <th>max</th>\n",
              "    </tr>\n",
              "  </thead>\n",
              "  <tbody>\n",
              "    <tr>\n",
              "      <th>Impression</th>\n",
              "      <td>40.00</td>\n",
              "      <td>101711.45</td>\n",
              "      <td>20302.16</td>\n",
              "      <td>45475.94</td>\n",
              "      <td>85726.69</td>\n",
              "      <td>99790.70</td>\n",
              "      <td>115212.82</td>\n",
              "      <td>147539.34</td>\n",
              "    </tr>\n",
              "    <tr>\n",
              "      <th>Click</th>\n",
              "      <td>40.00</td>\n",
              "      <td>5100.66</td>\n",
              "      <td>1329.99</td>\n",
              "      <td>2189.75</td>\n",
              "      <td>4124.30</td>\n",
              "      <td>5001.22</td>\n",
              "      <td>5923.80</td>\n",
              "      <td>7959.13</td>\n",
              "    </tr>\n",
              "    <tr>\n",
              "      <th>Purchase</th>\n",
              "      <td>40.00</td>\n",
              "      <td>550.89</td>\n",
              "      <td>134.11</td>\n",
              "      <td>267.03</td>\n",
              "      <td>470.10</td>\n",
              "      <td>531.21</td>\n",
              "      <td>637.96</td>\n",
              "      <td>801.80</td>\n",
              "    </tr>\n",
              "    <tr>\n",
              "      <th>Earning</th>\n",
              "      <td>40.00</td>\n",
              "      <td>1908.57</td>\n",
              "      <td>302.92</td>\n",
              "      <td>1253.99</td>\n",
              "      <td>1685.85</td>\n",
              "      <td>1975.16</td>\n",
              "      <td>2119.80</td>\n",
              "      <td>2497.30</td>\n",
              "    </tr>\n",
              "  </tbody>\n",
              "</table>\n",
              "</div>\n",
              "      <button class=\"colab-df-convert\" onclick=\"convertToInteractive('df-b7831e61-0f15-4ec0-b70f-4d323e3dc7b7')\"\n",
              "              title=\"Convert this dataframe to an interactive table.\"\n",
              "              style=\"display:none;\">\n",
              "        \n",
              "  <svg xmlns=\"http://www.w3.org/2000/svg\" height=\"24px\"viewBox=\"0 0 24 24\"\n",
              "       width=\"24px\">\n",
              "    <path d=\"M0 0h24v24H0V0z\" fill=\"none\"/>\n",
              "    <path d=\"M18.56 5.44l.94 2.06.94-2.06 2.06-.94-2.06-.94-.94-2.06-.94 2.06-2.06.94zm-11 1L8.5 8.5l.94-2.06 2.06-.94-2.06-.94L8.5 2.5l-.94 2.06-2.06.94zm10 10l.94 2.06.94-2.06 2.06-.94-2.06-.94-.94-2.06-.94 2.06-2.06.94z\"/><path d=\"M17.41 7.96l-1.37-1.37c-.4-.4-.92-.59-1.43-.59-.52 0-1.04.2-1.43.59L10.3 9.45l-7.72 7.72c-.78.78-.78 2.05 0 2.83L4 21.41c.39.39.9.59 1.41.59.51 0 1.02-.2 1.41-.59l7.78-7.78 2.81-2.81c.8-.78.8-2.07 0-2.86zM5.41 20L4 18.59l7.72-7.72 1.47 1.35L5.41 20z\"/>\n",
              "  </svg>\n",
              "      </button>\n",
              "      \n",
              "  <style>\n",
              "    .colab-df-container {\n",
              "      display:flex;\n",
              "      flex-wrap:wrap;\n",
              "      gap: 12px;\n",
              "    }\n",
              "\n",
              "    .colab-df-convert {\n",
              "      background-color: #E8F0FE;\n",
              "      border: none;\n",
              "      border-radius: 50%;\n",
              "      cursor: pointer;\n",
              "      display: none;\n",
              "      fill: #1967D2;\n",
              "      height: 32px;\n",
              "      padding: 0 0 0 0;\n",
              "      width: 32px;\n",
              "    }\n",
              "\n",
              "    .colab-df-convert:hover {\n",
              "      background-color: #E2EBFA;\n",
              "      box-shadow: 0px 1px 2px rgba(60, 64, 67, 0.3), 0px 1px 3px 1px rgba(60, 64, 67, 0.15);\n",
              "      fill: #174EA6;\n",
              "    }\n",
              "\n",
              "    [theme=dark] .colab-df-convert {\n",
              "      background-color: #3B4455;\n",
              "      fill: #D2E3FC;\n",
              "    }\n",
              "\n",
              "    [theme=dark] .colab-df-convert:hover {\n",
              "      background-color: #434B5C;\n",
              "      box-shadow: 0px 1px 3px 1px rgba(0, 0, 0, 0.15);\n",
              "      filter: drop-shadow(0px 1px 2px rgba(0, 0, 0, 0.3));\n",
              "      fill: #FFFFFF;\n",
              "    }\n",
              "  </style>\n",
              "\n",
              "      <script>\n",
              "        const buttonEl =\n",
              "          document.querySelector('#df-b7831e61-0f15-4ec0-b70f-4d323e3dc7b7 button.colab-df-convert');\n",
              "        buttonEl.style.display =\n",
              "          google.colab.kernel.accessAllowed ? 'block' : 'none';\n",
              "\n",
              "        async function convertToInteractive(key) {\n",
              "          const element = document.querySelector('#df-b7831e61-0f15-4ec0-b70f-4d323e3dc7b7');\n",
              "          const dataTable =\n",
              "            await google.colab.kernel.invokeFunction('convertToInteractive',\n",
              "                                                     [key], {});\n",
              "          if (!dataTable) return;\n",
              "\n",
              "          const docLinkHtml = 'Like what you see? Visit the ' +\n",
              "            '<a target=\"_blank\" href=https://colab.research.google.com/notebooks/data_table.ipynb>data table notebook</a>'\n",
              "            + ' to learn more about interactive tables.';\n",
              "          element.innerHTML = '';\n",
              "          dataTable['output_type'] = 'display_data';\n",
              "          await google.colab.output.renderOutput(dataTable, element);\n",
              "          const docLink = document.createElement('div');\n",
              "          docLink.innerHTML = docLinkHtml;\n",
              "          element.appendChild(docLink);\n",
              "        }\n",
              "      </script>\n",
              "    </div>\n",
              "  </div>\n",
              "  "
            ],
            "text/plain": [
              "            count      mean      std      min      25%      50%       75%       max\n",
              "Impression  40.00 101711.45 20302.16 45475.94 85726.69 99790.70 115212.82 147539.34\n",
              "Click       40.00   5100.66  1329.99  2189.75  4124.30  5001.22   5923.80   7959.13\n",
              "Purchase    40.00    550.89   134.11   267.03   470.10   531.21    637.96    801.80\n",
              "Earning     40.00   1908.57   302.92  1253.99  1685.85  1975.16   2119.80   2497.30"
            ]
          },
          "metadata": {},
          "execution_count": 45
        }
      ]
    },
    {
      "cell_type": "code",
      "source": [
        "df_test.describe().T"
      ],
      "metadata": {
        "colab": {
          "base_uri": "https://localhost:8080/",
          "height": 174
        },
        "id": "Wi1H6VOFDdSw",
        "outputId": "3bd26f4c-9896-4840-c523-e93b72d6fad7"
      },
      "execution_count": null,
      "outputs": [
        {
          "output_type": "execute_result",
          "data": {
            "text/html": [
              "\n",
              "  <div id=\"df-a90f6548-2b96-4d9e-bfb7-24ac1be8f424\">\n",
              "    <div class=\"colab-df-container\">\n",
              "      <div>\n",
              "<style scoped>\n",
              "    .dataframe tbody tr th:only-of-type {\n",
              "        vertical-align: middle;\n",
              "    }\n",
              "\n",
              "    .dataframe tbody tr th {\n",
              "        vertical-align: top;\n",
              "    }\n",
              "\n",
              "    .dataframe thead th {\n",
              "        text-align: right;\n",
              "    }\n",
              "</style>\n",
              "<table border=\"1\" class=\"dataframe\">\n",
              "  <thead>\n",
              "    <tr style=\"text-align: right;\">\n",
              "      <th></th>\n",
              "      <th>count</th>\n",
              "      <th>mean</th>\n",
              "      <th>std</th>\n",
              "      <th>min</th>\n",
              "      <th>25%</th>\n",
              "      <th>50%</th>\n",
              "      <th>75%</th>\n",
              "      <th>max</th>\n",
              "    </tr>\n",
              "  </thead>\n",
              "  <tbody>\n",
              "    <tr>\n",
              "      <th>Impression</th>\n",
              "      <td>40.00</td>\n",
              "      <td>120512.41</td>\n",
              "      <td>18807.45</td>\n",
              "      <td>79033.83</td>\n",
              "      <td>112691.97</td>\n",
              "      <td>119291.30</td>\n",
              "      <td>132050.58</td>\n",
              "      <td>158605.92</td>\n",
              "    </tr>\n",
              "    <tr>\n",
              "      <th>Click</th>\n",
              "      <td>40.00</td>\n",
              "      <td>3967.55</td>\n",
              "      <td>923.10</td>\n",
              "      <td>1836.63</td>\n",
              "      <td>3376.82</td>\n",
              "      <td>3931.36</td>\n",
              "      <td>4660.50</td>\n",
              "      <td>6019.70</td>\n",
              "    </tr>\n",
              "    <tr>\n",
              "      <th>Purchase</th>\n",
              "      <td>40.00</td>\n",
              "      <td>582.11</td>\n",
              "      <td>161.15</td>\n",
              "      <td>311.63</td>\n",
              "      <td>444.63</td>\n",
              "      <td>551.36</td>\n",
              "      <td>699.86</td>\n",
              "      <td>889.91</td>\n",
              "    </tr>\n",
              "    <tr>\n",
              "      <th>Earning</th>\n",
              "      <td>40.00</td>\n",
              "      <td>2514.89</td>\n",
              "      <td>282.73</td>\n",
              "      <td>1939.61</td>\n",
              "      <td>2280.54</td>\n",
              "      <td>2544.67</td>\n",
              "      <td>2761.55</td>\n",
              "      <td>3171.49</td>\n",
              "    </tr>\n",
              "  </tbody>\n",
              "</table>\n",
              "</div>\n",
              "      <button class=\"colab-df-convert\" onclick=\"convertToInteractive('df-a90f6548-2b96-4d9e-bfb7-24ac1be8f424')\"\n",
              "              title=\"Convert this dataframe to an interactive table.\"\n",
              "              style=\"display:none;\">\n",
              "        \n",
              "  <svg xmlns=\"http://www.w3.org/2000/svg\" height=\"24px\"viewBox=\"0 0 24 24\"\n",
              "       width=\"24px\">\n",
              "    <path d=\"M0 0h24v24H0V0z\" fill=\"none\"/>\n",
              "    <path d=\"M18.56 5.44l.94 2.06.94-2.06 2.06-.94-2.06-.94-.94-2.06-.94 2.06-2.06.94zm-11 1L8.5 8.5l.94-2.06 2.06-.94-2.06-.94L8.5 2.5l-.94 2.06-2.06.94zm10 10l.94 2.06.94-2.06 2.06-.94-2.06-.94-.94-2.06-.94 2.06-2.06.94z\"/><path d=\"M17.41 7.96l-1.37-1.37c-.4-.4-.92-.59-1.43-.59-.52 0-1.04.2-1.43.59L10.3 9.45l-7.72 7.72c-.78.78-.78 2.05 0 2.83L4 21.41c.39.39.9.59 1.41.59.51 0 1.02-.2 1.41-.59l7.78-7.78 2.81-2.81c.8-.78.8-2.07 0-2.86zM5.41 20L4 18.59l7.72-7.72 1.47 1.35L5.41 20z\"/>\n",
              "  </svg>\n",
              "      </button>\n",
              "      \n",
              "  <style>\n",
              "    .colab-df-container {\n",
              "      display:flex;\n",
              "      flex-wrap:wrap;\n",
              "      gap: 12px;\n",
              "    }\n",
              "\n",
              "    .colab-df-convert {\n",
              "      background-color: #E8F0FE;\n",
              "      border: none;\n",
              "      border-radius: 50%;\n",
              "      cursor: pointer;\n",
              "      display: none;\n",
              "      fill: #1967D2;\n",
              "      height: 32px;\n",
              "      padding: 0 0 0 0;\n",
              "      width: 32px;\n",
              "    }\n",
              "\n",
              "    .colab-df-convert:hover {\n",
              "      background-color: #E2EBFA;\n",
              "      box-shadow: 0px 1px 2px rgba(60, 64, 67, 0.3), 0px 1px 3px 1px rgba(60, 64, 67, 0.15);\n",
              "      fill: #174EA6;\n",
              "    }\n",
              "\n",
              "    [theme=dark] .colab-df-convert {\n",
              "      background-color: #3B4455;\n",
              "      fill: #D2E3FC;\n",
              "    }\n",
              "\n",
              "    [theme=dark] .colab-df-convert:hover {\n",
              "      background-color: #434B5C;\n",
              "      box-shadow: 0px 1px 3px 1px rgba(0, 0, 0, 0.15);\n",
              "      filter: drop-shadow(0px 1px 2px rgba(0, 0, 0, 0.3));\n",
              "      fill: #FFFFFF;\n",
              "    }\n",
              "  </style>\n",
              "\n",
              "      <script>\n",
              "        const buttonEl =\n",
              "          document.querySelector('#df-a90f6548-2b96-4d9e-bfb7-24ac1be8f424 button.colab-df-convert');\n",
              "        buttonEl.style.display =\n",
              "          google.colab.kernel.accessAllowed ? 'block' : 'none';\n",
              "\n",
              "        async function convertToInteractive(key) {\n",
              "          const element = document.querySelector('#df-a90f6548-2b96-4d9e-bfb7-24ac1be8f424');\n",
              "          const dataTable =\n",
              "            await google.colab.kernel.invokeFunction('convertToInteractive',\n",
              "                                                     [key], {});\n",
              "          if (!dataTable) return;\n",
              "\n",
              "          const docLinkHtml = 'Like what you see? Visit the ' +\n",
              "            '<a target=\"_blank\" href=https://colab.research.google.com/notebooks/data_table.ipynb>data table notebook</a>'\n",
              "            + ' to learn more about interactive tables.';\n",
              "          element.innerHTML = '';\n",
              "          dataTable['output_type'] = 'display_data';\n",
              "          await google.colab.output.renderOutput(dataTable, element);\n",
              "          const docLink = document.createElement('div');\n",
              "          docLink.innerHTML = docLinkHtml;\n",
              "          element.appendChild(docLink);\n",
              "        }\n",
              "      </script>\n",
              "    </div>\n",
              "  </div>\n",
              "  "
            ],
            "text/plain": [
              "            count      mean      std      min       25%       50%       75%       max\n",
              "Impression  40.00 120512.41 18807.45 79033.83 112691.97 119291.30 132050.58 158605.92\n",
              "Click       40.00   3967.55   923.10  1836.63   3376.82   3931.36   4660.50   6019.70\n",
              "Purchase    40.00    582.11   161.15   311.63    444.63    551.36    699.86    889.91\n",
              "Earning     40.00   2514.89   282.73  1939.61   2280.54   2544.67   2761.55   3171.49"
            ]
          },
          "metadata": {},
          "execution_count": 46
        }
      ]
    },
    {
      "cell_type": "code",
      "source": [
        "print(sms.DescrStatsW(df_control[\"Purchase\"]).tconfint_mean())\n",
        "print(sms.DescrStatsW(df_test[\"Purchase\"]).tconfint_mean())\n",
        "#two-sided confidence interval for weighted mean of data 1-alpha=0.05\n",
        "#their confidence interval intersects"
      ],
      "metadata": {
        "colab": {
          "base_uri": "https://localhost:8080/"
        },
        "id": "rW13yU7XBvh0",
        "outputId": "56fcdeab-bc9e-4fcb-b9e2-937577e8f93e"
      },
      "execution_count": null,
      "outputs": [
        {
          "output_type": "stream",
          "name": "stdout",
          "text": [
            "(508.0041754264924, 593.7839421139709)\n",
            "(530.5670226990062, 633.6451705979289)\n"
          ]
        }
      ]
    },
    {
      "cell_type": "code",
      "source": [
        "data = [df_control['Purchase'], df_test['Purchase']]\n",
        "fig = plt.figure(figsize =(5, 7))\n",
        "ax = fig.add_axes([0, 0, 1, 1])\n",
        "bp = ax.boxplot(data)\n",
        "plt.show()\n"
      ],
      "metadata": {
        "id": "neuQBe0rC24B",
        "colab": {
          "base_uri": "https://localhost:8080/",
          "height": 552
        },
        "outputId": "419e8d7d-023c-4cc8-8f7b-6f9be5875b90"
      },
      "execution_count": null,
      "outputs": [
        {
          "output_type": "display_data",
          "data": {
            "image/png": "[encoded data removed]",
            "text/plain": [
              "<Figure size 360x504 with 1 Axes>"
            ]
          },
          "metadata": {
            "needs_background": "light"
          }
        }
      ]
    },
    {
      "cell_type": "markdown",
      "source": [
        "#Parametric and Non-parametric tests\n",
        "* parametric tests compare  means  and addition substraction eligible. It should be normal distrubition and continues data. homogeneous variance.\n",
        "  * 1 sample- test mean of sample = population\n",
        "  * 2 samples - test two mean of samples - z-test\n",
        "  * more than 2 samples ANOVA test - more than two samples\n",
        "\n",
        "\n",
        "* non-parametric tests compare medians, not eligible addition. for example categoric variables. contradicts with normality discrete data.non-homogeneous variance. \n",
        "  * 1 sample test\n",
        "  * 2 samples test\n",
        "  * more than 2 samples\n",
        "---------------------------------------\n",
        "Table: [Parametric and Non-parametric tests for comparing two or more groups](https://www.healthknowledge.org.uk/public-health-textbook/research-methods/1b-statistical-methods/parametric-nonparametric-tests)\n",
        "\n",
        " ![parametric3.png](data:image/png;base64,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)\n"
      ],
      "metadata": {
        "id": "pw3kGL7wC3k-"
      }
    },
    {
      "cell_type": "markdown",
      "source": [
        "## Hypothesis Test\n",
        "### H0: Equality\n",
        "### H1: \n"
      ],
      "metadata": {
        "id": "F-KvmOZtOQg-"
      }
    },
    {
      "cell_type": "code",
      "source": [
        "# NORMALITY CONTROL shapiro\n",
        "# H0: df_control['Purchase'] = normal data???\n",
        "test_stat_c, pvalue_c = shapiro(df_control['Purchase'])\n",
        "print('Test Stat = %.4f, p-value = %.4f' % (test_stat_c, pvalue_c))\n",
        "#H0 fail to reject because p>0.05\n",
        "\n",
        "# H0: df_test['Purchase'] = normal data???\n",
        "test_stat_t, pvalue_t = shapiro(df_test['Purchase'])\n",
        "print('Test Stat = %.4f, p-value = %.4f' % (test_stat_t, pvalue_t))\n",
        "# #H0 fail to reject because p>0.15"
      ],
      "metadata": {
        "colab": {
          "base_uri": "https://localhost:8080/"
        },
        "id": "dNJ3g8TeQwiU",
        "outputId": "119f9589-4a1b-41fc-f4d2-2fa2f538ab21"
      },
      "execution_count": null,
      "outputs": [
        {
          "output_type": "stream",
          "name": "stdout",
          "text": [
            "Test Stat = 0.9773, p-value = 0.5891\n",
            "Test Stat = 0.9589, p-value = 0.1541\n"
          ]
        }
      ]
    },
    {
      "cell_type": "code",
      "source": [
        "# VARIANCE CONTROL levene\n",
        "# H0: variance is Homogeneous\n",
        "test_stat, pvalue = levene(df_test[\"Purchase\"],df_control[\"Purchase\"])\n",
        "\n",
        "print('Test Stat = %.4f, p-value = %.4f' % (test_stat, pvalue))  \n"
      ],
      "metadata": {
        "id": "eRhHXbMdSewF",
        "colab": {
          "base_uri": "https://localhost:8080/"
        },
        "outputId": "6a543d37-28f8-4f94-a020-43808a6991d5"
      },
      "execution_count": null,
      "outputs": [
        {
          "output_type": "stream",
          "name": "stdout",
          "text": [
            "Test Stat = 2.6393, p-value = 0.1083\n"
          ]
        }
      ]
    },
    {
      "cell_type": "code",
      "source": [
        "#parametric because assumpstions are hold.\n",
        "#compare mean's\n",
        "#AB 2 sample - t\n",
        "# HO: Test there is no difference between groups\n",
        "import scipy.stats as stats\n",
        "\n",
        "test_stat, pvalue_2sT = stats.ttest_ind(df_control['Purchase'],df_test['Purchase'],equal_var=True)\n",
        "#print('test_stat = %.4f, pvalue_2sT = %.4f' % (test_stat, pvalue_2sT))\n",
        "# H0 fail to reject (p = 0.3493 > 0.05\n",
        "\n",
        "print (\"ttest statistics: {}\\np_value: {}\".format (test_stat, pvalue_2sT))"
      ],
      "metadata": {
        "colab": {
          "base_uri": "https://localhost:8080/"
        },
        "id": "LBCTDTpgderw",
        "outputId": "1fa6c6a8-f2ec-4bc9-e4af-9dda92891538"
      },
      "execution_count": null,
      "outputs": [
        {
          "output_type": "stream",
          "name": "stdout",
          "text": [
            "ttest statistics: -0.9415584300312964\n",
            "p_value: 0.34932579202108416\n"
          ]
        }
      ]
    },
    {
      "cell_type": "markdown",
      "source": [
        "## DO IT SAME FOR ALL"
      ],
      "metadata": {
        "id": "neBHIDoSjBQ0"
      }
    },
    {
      "cell_type": "code",
      "source": [
        "def normality_func(dataframe):\n",
        "    from scipy.stats import shapiro\n",
        "    p_value_threshold = 0.05\n",
        "    p_value_list = []\n",
        "    distribution_list = []\n",
        "    normal_list = []\n",
        "    abnormal_list = []\n",
        "    for col in dataframe.columns:\n",
        "        ttest, p_value = shapiro (dataframe[col])\n",
        "        p_value_list.append (p_value)\n",
        "        if p_value >= p_value_threshold:\n",
        "            distribution_list.append (\"Normal\")\n",
        "            normal_list.append (col)\n",
        "        else:\n",
        "            distribution_list.append (\"Abnormal\")\n",
        "            abnormal_list.append (col)\n",
        "\n",
        "    new_df = pd.DataFrame (index=dataframe.columns, data={\"P_Value\": p_value_list, \"Distribution\": distribution_list})\n",
        "    return new_df, normal_list, abnormal_list\n"
      ],
      "metadata": {
        "id": "2PESEWEXWtha"
      },
      "execution_count": null,
      "outputs": []
    },
    {
      "cell_type": "code",
      "source": [
        "def variance_homogeneity(dataframe_control, dataframe_test):\n",
        "    from scipy.stats import levene\n",
        "    p_value_threshold = 0.05\n",
        "    p_value_list = []\n",
        "    variance_list = []\n",
        "    column_list = list(zip(sorted(dataframe_control.columns), sorted(dataframe_test.columns)))\n",
        "    features = []\n",
        "    homogeneus_list = []\n",
        "    not_homogeneus_list = []\n",
        "    for col in column_list:\n",
        "        ttest_lev, p_value_lev = levene(dataframe_control[col[0]], dataframe_test[col[1]])\n",
        "        if (col[0] == col[1]) and (p_value_lev >= p_value_threshold):\n",
        "            p_value_list.append(p_value_lev)\n",
        "            variance_list.append(\"No Difference\")\n",
        "            homogeneus_list.append(col[0])\n",
        "            features.append(col[0])\n",
        "        elif (col[0] == col[1]) and (p_value_lev < p_value_threshold):\n",
        "            p_value_list.append(p_value_lev)\n",
        "            variance_list.append(\"Different\")\n",
        "            not_homogeneus_list.append(col[0])\n",
        "            features.append(col[0])\n",
        "\n",
        "    new_df = pd.DataFrame(index=features, data={\"P_Value\": p_value_list, \"Homogeneity_of_Variance\": variance_list})\n",
        "\n",
        "    return new_df, homogeneus_list, not_homogeneus_list\n"
      ],
      "metadata": {
        "id": "kggRlUcTW3eL"
      },
      "execution_count": null,
      "outputs": []
    },
    {
      "cell_type": "code",
      "source": [
        "control_normality, control_normal_list, control_abnormal_list = normality_func(df_control)\n",
        "print(control_normality)\n",
        "test_normality, test_normal_list, test_abnormal_list = normality_func(df_test)\n",
        "print(test_normality)\n"
      ],
      "metadata": {
        "colab": {
          "base_uri": "https://localhost:8080/"
        },
        "id": "cc24jIxtgJUg",
        "outputId": "d00a9571-80bd-435c-eb24-9cda080e9759"
      },
      "execution_count": null,
      "outputs": [
        {
          "output_type": "stream",
          "name": "stdout",
          "text": [
            "            P_Value Distribution\n",
            "Impression     0.35       Normal\n",
            "Click          0.85       Normal\n",
            "Purchase       0.59       Normal\n",
            "Earning        0.53       Normal\n",
            "            P_Value Distribution\n",
            "Impression     0.41       Normal\n",
            "Click          0.97       Normal\n",
            "Purchase       0.15       Normal\n",
            "Earning        0.62       Normal\n"
          ]
        }
      ]
    },
    {
      "cell_type": "code",
      "source": [
        "ttest_lev, p_value_lev = levene(df_control[\"Purchase\"], df_test[\"Purchase\"])\n",
        "print(\"ttest istatistiği: {}\\np_value: {}\".format(ttest_lev, p_value_lev))\n",
        "variance_df, homogeneus, not_homogeneus = variance_homogeneity(df_control, df_test)\n"
      ],
      "metadata": {
        "colab": {
          "base_uri": "https://localhost:8080/"
        },
        "id": "0zoJM4DmW8Xc",
        "outputId": "338c53d7-bb0b-4361-ae0d-da19fa1c578a"
      },
      "execution_count": null,
      "outputs": [
        {
          "output_type": "stream",
          "name": "stdout",
          "text": [
            "ttest istatistiği: 2.6392694728747363\n",
            "p_value: 0.10828588271874791\n"
          ]
        }
      ]
    },
    {
      "cell_type": "code",
      "source": [
        "from scipy.stats import ttest_ind, mannwhitneyu\n",
        "# Normal dağılan parametrik değişkenler için ttest, normal dağılmayan nonparametrik değişkenler için mannwhitneyu testini kullanıyoruz.\n",
        "feat_dict = {}\n",
        "for feat in control_normal_list:\n",
        "    if feat in homogeneus:\n",
        "        ttest_value, p_value = ttest_ind(df_control[feat], df_test[feat], equal_var=True)\n",
        "        feat_dict[feat] = p_value\n",
        "    elif feat not in homogeneus:\n",
        "        ttest_value, p_value = ttest_ind(df_control[feat], df_test[feat], equal_var=False)\n",
        "        feat_dict[feat] = p_value\n",
        "\n",
        "for feat in control_abnormal_list:\n",
        "    ttest_value, p_value = mannwhitneyu(df_control[feat], df_test[feat])\n",
        "    feat_dict[feat] = p_value\n",
        "\n",
        "ttest_df = pd.DataFrame(data=feat_dict.values(), index=feat_dict.keys(), columns=[\"Ttest_P_Value\"])\n",
        "print(ttest_df)\n"
      ],
      "metadata": {
        "colab": {
          "base_uri": "https://localhost:8080/"
        },
        "id": "SY8yrxeAgotO",
        "outputId": "05332b8b-9a05-446f-8312-82823a8bca2f"
      },
      "execution_count": null,
      "outputs": [
        {
          "output_type": "stream",
          "name": "stdout",
          "text": [
            "            Ttest_P_Value\n",
            "Impression           0.00\n",
            "Click                0.00\n",
            "Purchase             0.35\n",
            "Earning              0.00\n"
          ]
        }
      ]
    },
    {
      "cell_type": "code",
      "source": [
        "# Maximum ve Average Bidding ortalamalarını karşılaştırmak için dataframe'e ekliyoruz.\n",
        "for col in df_control.columns:\n",
        "    ttest_df.loc[ttest_df.index == col, \"Maximum Bidding Mean\"] = df_control[col].mean()\n",
        "\n",
        "for col in df_test.columns:\n",
        "    ttest_df.loc[ttest_df.index == col, \"Average Bidding Mean\"] = df_test[col].mean()\n",
        "\n",
        "threshold = 0.05  # p_value değeri\n",
        "ttest_df.loc[ttest_df[\"Ttest_P_Value\"] < threshold, \"H0_Hypothesis\"] = \"Rejected\"\n",
        "ttest_df.loc[ttest_df[\"Ttest_P_Value\"] >= threshold, \"H0_Hypothesis\"] = \"Not Rejected\"\n",
        "\n",
        "# Her bir değişken için iki bidding tipinin ortalamalarını karşılaştırıyoruz.\n",
        "ttest_df[\"Winner\"] = ttest_df.apply(\n",
        "    lambda x: \"Maximum Bidding\" if (x[\"Maximum Bidding Mean\"] >= x[\"Average Bidding Mean\"]) & (\n",
        "            x[\"H0_Hypothesis\"] == \"Rejected\") else\n",
        "    \"Average Bidding\" if (x[\"Maximum Bidding Mean\"] < x[\"Average Bidding Mean\"]) & (\n",
        "            x[\"H0_Hypothesis\"] == \"Rejected\") else\n",
        "    \"No Difference\", axis=1)\n",
        "\n",
        "ttest_df\n"
      ],
      "metadata": {
        "colab": {
          "base_uri": "https://localhost:8080/",
          "height": 174
        },
        "id": "MOKjmPIUihOe",
        "outputId": "08500009-b917-49c3-d919-f7a7f83f9883"
      },
      "execution_count": null,
      "outputs": [
        {
          "output_type": "execute_result",
          "data": {
            "text/html": [
              "\n",
              "  <div id=\"df-90bd775b-00e4-4195-a15b-1eca77defc79\">\n",
              "    <div class=\"colab-df-container\">\n",
              "      <div>\n",
              "<style scoped>\n",
              "    .dataframe tbody tr th:only-of-type {\n",
              "        vertical-align: middle;\n",
              "    }\n",
              "\n",
              "    .dataframe tbody tr th {\n",
              "        vertical-align: top;\n",
              "    }\n",
              "\n",
              "    .dataframe thead th {\n",
              "        text-align: right;\n",
              "    }\n",
              "</style>\n",
              "<table border=\"1\" class=\"dataframe\">\n",
              "  <thead>\n",
              "    <tr style=\"text-align: right;\">\n",
              "      <th></th>\n",
              "      <th>Ttest_P_Value</th>\n",
              "      <th>Maximum Bidding Mean</th>\n",
              "      <th>Average Bidding Mean</th>\n",
              "      <th>H0_Hypothesis</th>\n",
              "      <th>Winner</th>\n",
              "    </tr>\n",
              "  </thead>\n",
              "  <tbody>\n",
              "    <tr>\n",
              "      <th>Impression</th>\n",
              "      <td>0.00</td>\n",
              "      <td>101711.45</td>\n",
              "      <td>120512.41</td>\n",
              "      <td>Rejected</td>\n",
              "      <td>Average Bidding</td>\n",
              "    </tr>\n",
              "    <tr>\n",
              "      <th>Click</th>\n",
              "      <td>0.00</td>\n",
              "      <td>5100.66</td>\n",
              "      <td>3967.55</td>\n",
              "      <td>Rejected</td>\n",
              "      <td>Maximum Bidding</td>\n",
              "    </tr>\n",
              "    <tr>\n",
              "      <th>Purchase</th>\n",
              "      <td>0.35</td>\n",
              "      <td>550.89</td>\n",
              "      <td>582.11</td>\n",
              "      <td>Not Rejected</td>\n",
              "      <td>No Difference</td>\n",
              "    </tr>\n",
              "    <tr>\n",
              "      <th>Earning</th>\n",
              "      <td>0.00</td>\n",
              "      <td>1908.57</td>\n",
              "      <td>2514.89</td>\n",
              "      <td>Rejected</td>\n",
              "      <td>Average Bidding</td>\n",
              "    </tr>\n",
              "  </tbody>\n",
              "</table>\n",
              "</div>\n",
              "      <button class=\"colab-df-convert\" onclick=\"convertToInteractive('df-90bd775b-00e4-4195-a15b-1eca77defc79')\"\n",
              "              title=\"Convert this dataframe to an interactive table.\"\n",
              "              style=\"display:none;\">\n",
              "        \n",
              "  <svg xmlns=\"http://www.w3.org/2000/svg\" height=\"24px\"viewBox=\"0 0 24 24\"\n",
              "       width=\"24px\">\n",
              "    <path d=\"M0 0h24v24H0V0z\" fill=\"none\"/>\n",
              "    <path d=\"M18.56 5.44l.94 2.06.94-2.06 2.06-.94-2.06-.94-.94-2.06-.94 2.06-2.06.94zm-11 1L8.5 8.5l.94-2.06 2.06-.94-2.06-.94L8.5 2.5l-.94 2.06-2.06.94zm10 10l.94 2.06.94-2.06 2.06-.94-2.06-.94-.94-2.06-.94 2.06-2.06.94z\"/><path d=\"M17.41 7.96l-1.37-1.37c-.4-.4-.92-.59-1.43-.59-.52 0-1.04.2-1.43.59L10.3 9.45l-7.72 7.72c-.78.78-.78 2.05 0 2.83L4 21.41c.39.39.9.59 1.41.59.51 0 1.02-.2 1.41-.59l7.78-7.78 2.81-2.81c.8-.78.8-2.07 0-2.86zM5.41 20L4 18.59l7.72-7.72 1.47 1.35L5.41 20z\"/>\n",
              "  </svg>\n",
              "      </button>\n",
              "      \n",
              "  <style>\n",
              "    .colab-df-container {\n",
              "      display:flex;\n",
              "      flex-wrap:wrap;\n",
              "      gap: 12px;\n",
              "    }\n",
              "\n",
              "    .colab-df-convert {\n",
              "      background-color: #E8F0FE;\n",
              "      border: none;\n",
              "      border-radius: 50%;\n",
              "      cursor: pointer;\n",
              "      display: none;\n",
              "      fill: #1967D2;\n",
              "      height: 32px;\n",
              "      padding: 0 0 0 0;\n",
              "      width: 32px;\n",
              "    }\n",
              "\n",
              "    .colab-df-convert:hover {\n",
              "      background-color: #E2EBFA;\n",
              "      box-shadow: 0px 1px 2px rgba(60, 64, 67, 0.3), 0px 1px 3px 1px rgba(60, 64, 67, 0.15);\n",
              "      fill: #174EA6;\n",
              "    }\n",
              "\n",
              "    [theme=dark] .colab-df-convert {\n",
              "      background-color: #3B4455;\n",
              "      fill: #D2E3FC;\n",
              "    }\n",
              "\n",
              "    [theme=dark] .colab-df-convert:hover {\n",
              "      background-color: #434B5C;\n",
              "      box-shadow: 0px 1px 3px 1px rgba(0, 0, 0, 0.15);\n",
              "      filter: drop-shadow(0px 1px 2px rgba(0, 0, 0, 0.3));\n",
              "      fill: #FFFFFF;\n",
              "    }\n",
              "  </style>\n",
              "\n",
              "      <script>\n",
              "        const buttonEl =\n",
              "          document.querySelector('#df-90bd775b-00e4-4195-a15b-1eca77defc79 button.colab-df-convert');\n",
              "        buttonEl.style.display =\n",
              "          google.colab.kernel.accessAllowed ? 'block' : 'none';\n",
              "\n",
              "        async function convertToInteractive(key) {\n",
              "          const element = document.querySelector('#df-90bd775b-00e4-4195-a15b-1eca77defc79');\n",
              "          const dataTable =\n",
              "            await google.colab.kernel.invokeFunction('convertToInteractive',\n",
              "                                                     [key], {});\n",
              "          if (!dataTable) return;\n",
              "\n",
              "          const docLinkHtml = 'Like what you see? Visit the ' +\n",
              "            '<a target=\"_blank\" href=https://colab.research.google.com/notebooks/data_table.ipynb>data table notebook</a>'\n",
              "            + ' to learn more about interactive tables.';\n",
              "          element.innerHTML = '';\n",
              "          dataTable['output_type'] = 'display_data';\n",
              "          await google.colab.output.renderOutput(dataTable, element);\n",
              "          const docLink = document.createElement('div');\n",
              "          docLink.innerHTML = docLinkHtml;\n",
              "          element.appendChild(docLink);\n",
              "        }\n",
              "      </script>\n",
              "    </div>\n",
              "  </div>\n",
              "  "
            ],
            "text/plain": [
              "            Ttest_P_Value  Maximum Bidding Mean  Average Bidding Mean H0_Hypothesis           Winner\n",
              "Impression           0.00             101711.45             120512.41      Rejected  Average Bidding\n",
              "Click                0.00               5100.66               3967.55      Rejected  Maximum Bidding\n",
              "Purchase             0.35                550.89                582.11  Not Rejected    No Difference\n",
              "Earning              0.00               1908.57               2514.89      Rejected  Average Bidding"
            ]
          },
          "metadata": {},
          "execution_count": 58
        }
      ]
    },
    {
      "cell_type": "markdown",
      "source": [
        "# RATIO TEST"
      ],
      "metadata": {
        "id": "h1WHKpdbVKqB"
      }
    },
    {
      "cell_type": "code",
      "source": [
        "# İKİ ÖRNEKLEM ORAN TESTİ\n",
        "# H0 : Kontrol grubu dönüşüm oranı ile test grubu dönüşüm oranı arasında istatistiksel olarak anlamlı bir fark yoktur.\n",
        "# H1 : Kontrol grubu dönüşüm oranı ile test grubu dönüşüm oranı arasında istatistiksel olarak anlamlı bir fark vardır.\n",
        "# p_value < 0.05 ise H0 reddedilir.\n",
        "\n",
        "df_control[\"Purchase\"].shape[0]  # Gözlem sayısı 40, n1>30 varsayımı sağlanıyor.\n",
        "df_test[\"Purchase\"].shape[0]  # Gözlem sayısı 40, n2>30 varsayımı sağlanıyor.\n",
        "\n",
        "from statsmodels.stats.proportion import proportions_ztest\n",
        "\n",
        "threshold = 0.05  # p_value değeri\n",
        "\n",
        "\n",
        "purchase_sum = np.array([df_control[\"Purchase\"].sum(), df_test[\"Purchase\"].sum()])\n",
        "click_sum = np.array([df_control[\"Click\"].sum(), df_test[\"Click\"].sum()])\n",
        "impression_sum = np.array([df_control[\"Impression\"].sum(), df_test[\"Impression\"].sum()])\n",
        "\n",
        "# purchase / impression\n",
        "ttest_z_purc_imp, p_purc_imp = proportions_ztest(purchase_sum, impression_sum)\n",
        "\n",
        "# purchase / click\n",
        "ttest_z_purc_click, p_purc_click = proportions_ztest(purchase_sum, click_sum)\n",
        "\n",
        "# click / impression\n",
        "ttest_z_click_imp, p_click_imp = proportions_ztest(click_sum, impression_sum)\n",
        "\n",
        "prop_df = pd.DataFrame(index=[\"Purchase/Impression\", \"Purchase/Click\", \"Click/Impression\"],\n",
        "                       columns=[\"Proportions_P_Value\"], data=[p_purc_imp, p_purc_click, p_click_imp])\n",
        "\n",
        "prop_df.loc[prop_df.index == \"Purchase/Impression\", \"Maximum Bidding\"] = df_control[\"Purchase\"].sum() / df_control[\"Impression\"].sum()\n",
        "prop_df.loc[prop_df.index == \"Purchase/Impression\", \"Average Bidding\"] = df_test[\"Purchase\"].sum() / df_test[\"Impression\"].sum()\n",
        "\n",
        "prop_df.loc[prop_df.index == \"Purchase/Click\", \"Maximum Bidding\"] = df_control[\"Purchase\"].sum() / df_control[\"Click\"].sum()\n",
        "prop_df.loc[prop_df.index == \"Purchase/Click\", \"Average Bidding\"] = df_test[\"Purchase\"].sum() / df_test[\"Click\"].sum()\n",
        "\n",
        "prop_df.loc[prop_df.index == \"Click/Impression\", \"Maximum Bidding\"] = df_control[\"Click\"].sum() / df_control[\"Impression\"].sum()\n",
        "prop_df.loc[prop_df.index == \"Click/Impression\", \"Average Bidding\"] = df_test[\"Click\"].sum() / df_test[\"Impression\"].sum()\n",
        "\n",
        "prop_df[\"H0_Hypothesis\"] = prop_df.apply(\n",
        "    lambda x: \"Rejected\" if x[\"Proportions_P_Value\"] < threshold else \"Not Rejected\", axis=1)\n",
        "\n",
        "prop_df[\"Winner\"] = prop_df.apply(\n",
        "    lambda x: \"Maximum Bidding\" if x[\"Maximum Bidding\"] >= x[\"Average Bidding\"] else \"Average Bidding\", axis=1)\n",
        "\n",
        "prop_df"
      ],
      "metadata": {
        "colab": {
          "base_uri": "https://localhost:8080/",
          "height": 144
        },
        "id": "at77e8a3ZYi5",
        "outputId": "817c216a-78bb-444b-dc43-0f7160b7faa9"
      },
      "execution_count": null,
      "outputs": [
        {
          "output_type": "execute_result",
          "data": {
            "text/html": [
              "\n",
              "  <div id=\"df-61910d5f-3bfb-4193-8320-26f87078101c\">\n",
              "    <div class=\"colab-df-container\">\n",
              "      <div>\n",
              "<style scoped>\n",
              "    .dataframe tbody tr th:only-of-type {\n",
              "        vertical-align: middle;\n",
              "    }\n",
              "\n",
              "    .dataframe tbody tr th {\n",
              "        vertical-align: top;\n",
              "    }\n",
              "\n",
              "    .dataframe thead th {\n",
              "        text-align: right;\n",
              "    }\n",
              "</style>\n",
              "<table border=\"1\" class=\"dataframe\">\n",
              "  <thead>\n",
              "    <tr style=\"text-align: right;\">\n",
              "      <th></th>\n",
              "      <th>Proportions_P_Value</th>\n",
              "      <th>Maximum Bidding</th>\n",
              "      <th>Average Bidding</th>\n",
              "      <th>H0_Hypothesis</th>\n",
              "      <th>Winner</th>\n",
              "    </tr>\n",
              "  </thead>\n",
              "  <tbody>\n",
              "    <tr>\n",
              "      <th>Purchase/Impression</th>\n",
              "      <td>0.00</td>\n",
              "      <td>0.01</td>\n",
              "      <td>0.00</td>\n",
              "      <td>Rejected</td>\n",
              "      <td>Maximum Bidding</td>\n",
              "    </tr>\n",
              "    <tr>\n",
              "      <th>Purchase/Click</th>\n",
              "      <td>0.00</td>\n",
              "      <td>0.11</td>\n",
              "      <td>0.15</td>\n",
              "      <td>Rejected</td>\n",
              "      <td>Average Bidding</td>\n",
              "    </tr>\n",
              "    <tr>\n",
              "      <th>Click/Impression</th>\n",
              "      <td>0.00</td>\n",
              "      <td>0.05</td>\n",
              "      <td>0.03</td>\n",
              "      <td>Rejected</td>\n",
              "      <td>Maximum Bidding</td>\n",
              "    </tr>\n",
              "  </tbody>\n",
              "</table>\n",
              "</div>\n",
              "      <button class=\"colab-df-convert\" onclick=\"convertToInteractive('df-61910d5f-3bfb-4193-8320-26f87078101c')\"\n",
              "              title=\"Convert this dataframe to an interactive table.\"\n",
              "              style=\"display:none;\">\n",
              "        \n",
              "  <svg xmlns=\"http://www.w3.org/2000/svg\" height=\"24px\"viewBox=\"0 0 24 24\"\n",
              "       width=\"24px\">\n",
              "    <path d=\"M0 0h24v24H0V0z\" fill=\"none\"/>\n",
              "    <path d=\"M18.56 5.44l.94 2.06.94-2.06 2.06-.94-2.06-.94-.94-2.06-.94 2.06-2.06.94zm-11 1L8.5 8.5l.94-2.06 2.06-.94-2.06-.94L8.5 2.5l-.94 2.06-2.06.94zm10 10l.94 2.06.94-2.06 2.06-.94-2.06-.94-.94-2.06-.94 2.06-2.06.94z\"/><path d=\"M17.41 7.96l-1.37-1.37c-.4-.4-.92-.59-1.43-.59-.52 0-1.04.2-1.43.59L10.3 9.45l-7.72 7.72c-.78.78-.78 2.05 0 2.83L4 21.41c.39.39.9.59 1.41.59.51 0 1.02-.2 1.41-.59l7.78-7.78 2.81-2.81c.8-.78.8-2.07 0-2.86zM5.41 20L4 18.59l7.72-7.72 1.47 1.35L5.41 20z\"/>\n",
              "  </svg>\n",
              "      </button>\n",
              "      \n",
              "  <style>\n",
              "    .colab-df-container {\n",
              "      display:flex;\n",
              "      flex-wrap:wrap;\n",
              "      gap: 12px;\n",
              "    }\n",
              "\n",
              "    .colab-df-convert {\n",
              "      background-color: #E8F0FE;\n",
              "      border: none;\n",
              "      border-radius: 50%;\n",
              "      cursor: pointer;\n",
              "      display: none;\n",
              "      fill: #1967D2;\n",
              "      height: 32px;\n",
              "      padding: 0 0 0 0;\n",
              "      width: 32px;\n",
              "    }\n",
              "\n",
              "    .colab-df-convert:hover {\n",
              "      background-color: #E2EBFA;\n",
              "      box-shadow: 0px 1px 2px rgba(60, 64, 67, 0.3), 0px 1px 3px 1px rgba(60, 64, 67, 0.15);\n",
              "      fill: #174EA6;\n",
              "    }\n",
              "\n",
              "    [theme=dark] .colab-df-convert {\n",
              "      background-color: #3B4455;\n",
              "      fill: #D2E3FC;\n",
              "    }\n",
              "\n",
              "    [theme=dark] .colab-df-convert:hover {\n",
              "      background-color: #434B5C;\n",
              "      box-shadow: 0px 1px 3px 1px rgba(0, 0, 0, 0.15);\n",
              "      filter: drop-shadow(0px 1px 2px rgba(0, 0, 0, 0.3));\n",
              "      fill: #FFFFFF;\n",
              "    }\n",
              "  </style>\n",
              "\n",
              "      <script>\n",
              "        const buttonEl =\n",
              "          document.querySelector('#df-61910d5f-3bfb-4193-8320-26f87078101c button.colab-df-convert');\n",
              "        buttonEl.style.display =\n",
              "          google.colab.kernel.accessAllowed ? 'block' : 'none';\n",
              "\n",
              "        async function convertToInteractive(key) {\n",
              "          const element = document.querySelector('#df-61910d5f-3bfb-4193-8320-26f87078101c');\n",
              "          const dataTable =\n",
              "            await google.colab.kernel.invokeFunction('convertToInteractive',\n",
              "                                                     [key], {});\n",
              "          if (!dataTable) return;\n",
              "\n",
              "          const docLinkHtml = 'Like what you see? Visit the ' +\n",
              "            '<a target=\"_blank\" href=https://colab.research.google.com/notebooks/data_table.ipynb>data table notebook</a>'\n",
              "            + ' to learn more about interactive tables.';\n",
              "          element.innerHTML = '';\n",
              "          dataTable['output_type'] = 'display_data';\n",
              "          await google.colab.output.renderOutput(dataTable, element);\n",
              "          const docLink = document.createElement('div');\n",
              "          docLink.innerHTML = docLinkHtml;\n",
              "          element.appendChild(docLink);\n",
              "        }\n",
              "      </script>\n",
              "    </div>\n",
              "  </div>\n",
              "  "
            ],
            "text/plain": [
              "                     Proportions_P_Value  Maximum Bidding  Average Bidding H0_Hypothesis           Winner\n",
              "Purchase/Impression                 0.00             0.01             0.00      Rejected  Maximum Bidding\n",
              "Purchase/Click                      0.00             0.11             0.15      Rejected  Average Bidding\n",
              "Click/Impression                    0.00             0.05             0.03      Rejected  Maximum Bidding"
            ]
          },
          "metadata": {},
          "execution_count": 17
        }
      ]
    }
  ]
}